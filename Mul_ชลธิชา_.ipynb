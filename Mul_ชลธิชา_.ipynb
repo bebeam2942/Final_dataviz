{
  "nbformat": 4,
  "nbformat_minor": 0,
  "metadata": {
    "colab": {
      "name": "Mul ชลธิชา .ipynb",
      "provenance": [],
      "authorship_tag": "ABX9TyNY80reT43XSgI2bLTJ2ieA",
      "include_colab_link": true
    },
    "kernelspec": {
      "name": "ir",
      "display_name": "R"
    },
    "language_info": {
      "name": "R"
    }
  },
  "cells": [
    {
      "cell_type": "markdown",
      "metadata": {
        "id": "view-in-github",
        "colab_type": "text"
      },
      "source": [
        "<a href=\"https://colab.research.google.com/github/bebeam2942/Final_dataviz/blob/main/Mul_%E0%B8%8A%E0%B8%A5%E0%B8%98%E0%B8%B4%E0%B8%8A%E0%B8%B2_.ipynb\" target=\"_parent\"><img src=\"https://colab.research.google.com/assets/colab-badge.svg\" alt=\"Open In Colab\"/></a>"
      ]
    },
    {
      "cell_type": "code",
      "metadata": {
        "colab": {
          "base_uri": "https://localhost:8080/"
        },
        "id": "3vT-wjp0Py1c",
        "outputId": "818d74bb-0026-47d9-9c37-7d9c3ccf3e04"
      },
      "source": [
        "x = matrix(c(2,3,7,4),4,1)\n",
        "  print(x)\n",
        "x2 = 4*x\n",
        "  print(x2)"
      ],
      "execution_count": 20,
      "outputs": [
        {
          "output_type": "stream",
          "text": [
            "     [,1]\n",
            "[1,]    2\n",
            "[2,]    3\n",
            "[3,]    7\n",
            "[4,]    4\n",
            "     [,1]\n",
            "[1,]    8\n",
            "[2,]   12\n",
            "[3,]   28\n",
            "[4,]   16\n"
          ],
          "name": "stdout"
        }
      ]
    },
    {
      "cell_type": "code",
      "metadata": {
        "colab": {
          "base_uri": "https://localhost:8080/"
        },
        "id": "-_jiE-BxQKdf",
        "outputId": "c8769bff-dbd5-403f-9879-878bf7bac272"
      },
      "source": [
        "b = matrix(c(42,52,48,58,4,5,4,5),4,2)\n",
        "  print(b)\n",
        "b2 = 4*b\n",
        "  print(b2)"
      ],
      "execution_count": 21,
      "outputs": [
        {
          "output_type": "stream",
          "text": [
            "     [,1] [,2]\n",
            "[1,]   42    4\n",
            "[2,]   52    5\n",
            "[3,]   48    4\n",
            "[4,]   58    5\n",
            "     [,1] [,2]\n",
            "[1,]  168   16\n",
            "[2,]  208   20\n",
            "[3,]  192   16\n",
            "[4,]  232   20\n"
          ],
          "name": "stdout"
        }
      ]
    },
    {
      "cell_type": "code",
      "metadata": {
        "id": "yVFJf8HKTcRk"
      },
      "source": [
        ""
      ],
      "execution_count": null,
      "outputs": []
    }
  ]
}